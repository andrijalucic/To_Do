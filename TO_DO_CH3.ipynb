{
 "cells": [
  {
   "cell_type": "markdown",
   "metadata": {},
   "source": [
    "To Do pour le chapitre 3 Andrija Lucic"
   ]
  },
  {
   "cell_type": "markdown",
   "metadata": {},
   "source": [
    "TO DO 1"
   ]
  },
  {
   "cell_type": "code",
   "execution_count": null,
   "metadata": {},
   "outputs": [],
   "source": [
    "graph = py2neo.Graph(\"bolt://localhost:7687\", auth=(\"neo4j\", \"password\"), name=\"mcu\")\n",
    "\n",
    "\n",
    "\n",
    "\n",
    "query = \"\"\"MATCH (a:Superhero)\n",
    "WHERE exists(a.Speed)\n",
    "RETURN a\n",
    "ORDER BY a.Speed DESC\n",
    "LIMIT 10\"\"\"\n",
    "data = graph.run(query).to_data_frame()\n",
    "list(data[\"a\"])\n",
    "\n",
    "query = \"\"\"MATCH (a:Superhero)-[r:RELATION]-(b:Superhero) WHERE a.Speed > 83 AND b.Speed > 83 RETURN a.name,r.n_collab, b.name\"\"\""
   ]
  },
  {
   "cell_type": "markdown",
   "metadata": {},
   "source": [
    "TO DO 2"
   ]
  },
  {
   "cell_type": "code",
   "execution_count": null,
   "metadata": {},
   "outputs": [],
   "source": [
    "query = \"\"\"MATCH (a:Superhero)-[r:RELATION]-(b:Superhero) WHERE a.Total > 480 AND b.Total < 10 RETURN a.name,r.n_collab, b.name\"\"\""
   ]
  },
  {
   "cell_type": "markdown",
   "metadata": {},
   "source": [
    "TO DO 3"
   ]
  },
  {
   "cell_type": "code",
   "execution_count": null,
   "metadata": {},
   "outputs": [],
   "source": [
    "query = \"\"\"MATCH (a:Superhero)-[r:RELATION]-(b:Superhero) WHERE a.Speed > 83 AND b.Speed > 83 AND r.n_collab > 10 RETURN a.name,r.n_collab, b.name\"\"\""
   ]
  },
  {
   "cell_type": "markdown",
   "metadata": {},
   "source": [
    "TO DO 5"
   ]
  },
  {
   "cell_type": "code",
   "execution_count": null,
   "metadata": {},
   "outputs": [],
   "source": [
    "graph = py2neo.Graph(\"bolt://localhost:7687\", auth=(\"neo4j\", \"Andrija99\"), name=\"master\")\n",
    "\n",
    "Person1 = py2neo.Node(\"Person\", name=\"Nikola\", age = 23) \n",
    "Person2 = py2neo.Node(\"Person\", name=\"Corentin\", age = 23)\n",
    "Person3 = py2neo.Node(\"Person\", name=\"Atuya\", age = 25)\n",
    "Person4 = py2neo.Node(\"Person\", name=\"Yaser\", age = 27) \n",
    "Person5 = py2neo.Node(\"Person\", name=\"Aristote\", age = 23)\n",
    "Person6 = py2neo.Node(\"Person\", name=\"Mohammad\", age = 25)\n",
    "Person7 = py2neo.Node(\"Person\", name=\"Wu\", age = 22) \n",
    "Person8 = py2neo.Node(\"Person\", name=\"Julian\", age = 28)\n",
    "Person9 = py2neo.Node(\"Person\", name=\"Andrija\", age = 22)\n",
    "\n",
    "ab = py2neo.Relationship(Person1, \"COLLABORATED\", Person2, n_collab = 1)\n",
    "ba = py2neo.Relationship(Person2, \"COLLABORATED\", Person1, n_collab = 1)\n",
    "ac = py2neo.Relationship(Person1, \"COLLABORATED\", Person3, n_collab = 1)\n",
    "ca = py2neo.Relationship(Person3, \"COLLABORATED\", Person1, n_collab = 1)\n",
    "bc = py2neo.Relationship(Person2, \"COLLABORATED\", Person3, n_collab = 1)\n",
    "cb = py2neo.Relationship(Person3, \"COLLABORATED\", Person2, n_collab = 1)\n",
    "df = py2neo.Relationship(Person4, \"COLLABORATED\", Person9, n_collab = 1)\n",
    "fd = py2neo.Relationship(Person9, \"COLLABORATED\", Person4, n_collab = 1)\n",
    "dg = py2neo.Relationship(Person4, \"COLLABORATED\", Person5, n_collab = 1)\n",
    "gd = py2neo.Relationship(Person5, \"COLLABORATED\", Person4, n_collab = 1)\n",
    "fg = py2neo.Relationship(Person9, \"COLLABORATED\", Person5, n_collab = 1)\n",
    "gf = py2neo.Relationship(Person5, \"COLLABORATED\", Person9, n_collab = 1)\n",
    "transaction = graph.begin()\n",
    "transaction.create(Person1|Person2|Person3|Person4|Person5|Person6|Person7|Person8)\n",
    "transaction.create(ab)\n",
    "transaction.create(ba)\n",
    "transaction.create(ac)\n",
    "transaction.create(ca)\n",
    "transaction.create(bc)\n",
    "transaction.create(cb)\n",
    "transaction.create(df)\n",
    "transaction.create(fd)\n",
    "transaction.create(dg)\n",
    "transaction.create(gd)\n",
    "transaction.create(fg)\n",
    "transaction.create(gf)\n",
    "transaction.commit()\n",
    "\n",
    "print(graph.exists(ab))"
   ]
  },
  {
   "cell_type": "markdown",
   "metadata": {},
   "source": [
    "TO DO 6"
   ]
  },
  {
   "cell_type": "code",
   "execution_count": 2,
   "metadata": {},
   "outputs": [],
   "source": [
    "query = \"\"\"MATCH (a:Person)-[r:COLLABORATED]-(b:Person) WHERE a.name = \"Andrija\" RETURN b.name, b.age\"\"\""
   ]
  },
  {
   "cell_type": "markdown",
   "metadata": {},
   "source": [
    "TO DO 7"
   ]
  },
  {
   "cell_type": "code",
   "execution_count": null,
   "metadata": {},
   "outputs": [],
   "source": [
    "query = \"\"\"MATCH (a:Person)\n",
    "WHERE (a.age > 25)\n",
    "RETURN a\"\"\"\n",
    "data = graph.run(query).to_data_frame()\n",
    "list(data[\"a\"])"
   ]
  }
 ],
 "metadata": {
  "kernelspec": {
   "display_name": "Python 3",
   "language": "python",
   "name": "python3"
  },
  "language_info": {
   "codemirror_mode": {
    "name": "ipython",
    "version": 3
   },
   "file_extension": ".py",
   "mimetype": "text/x-python",
   "name": "python",
   "nbconvert_exporter": "python",
   "pygments_lexer": "ipython3",
   "version": "3.8.5"
  }
 },
 "nbformat": 4,
 "nbformat_minor": 4
}
